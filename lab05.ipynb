{
 "cells": [
  {
   "cell_type": "code",
   "execution_count": 61,
   "metadata": {
    "collapsed": true
   },
   "outputs": [],
   "source": [
    "# from __future__ import print_function, division"
   ]
  },
  {
   "cell_type": "code",
   "execution_count": 62,
   "metadata": {
    "collapsed": true
   },
   "outputs": [],
   "source": [
    "%matplotlib inline \n",
    "import numpy as np\n",
    "import matplotlib.pyplot as plt"
   ]
  },
  {
   "cell_type": "markdown",
   "metadata": {},
   "source": [
    "# Part 1"
   ]
  },
  {
   "cell_type": "code",
   "execution_count": 63,
   "metadata": {
    "collapsed": true
   },
   "outputs": [],
   "source": [
    "def integrate(y, dx):\n",
    "    \"\"\"\n",
    "    Takes an array of y-values and a step size dx of the corresponding x values \n",
    "    and numerically integrates the function, returning the final value\n",
    "    \"\"\"\n",
    "    counter = 0\n",
    "    for yi in y:\n",
    "        counter += dx * yi\n",
    "    return counter"
   ]
  },
  {
   "cell_type": "code",
   "execution_count": 64,
   "metadata": {
    "collapsed": true
   },
   "outputs": [],
   "source": [
    "def plot_fn(xarr, yarr, title=''):\n",
    "    \"\"\"\n",
    "    Basic plotting function\n",
    "    \"\"\"\n",
    "    plt.plot(xarr, yarr)\n",
    "    plt.title(title)\n",
    "    plt.xlabel('x')\n",
    "    plt.ylabel('y')\n",
    "    plt.show()"
   ]
  },
  {
   "cell_type": "code",
   "execution_count": 65,
   "metadata": {
    "collapsed": false
   },
   "outputs": [
    {
     "data": {
      "image/png": "[encoded data removed]",
      "text/plain": [
       "<matplotlib.figure.Figure at 0x110fa0410>"
      ]
     },
     "metadata": {},
     "output_type": "display_data"
    }
   ],
   "source": [
    "# TODO write code here to setup arrays x and y = sin(x) and then plot them by calling plot_fn\n",
    "x = np.arange(0, 2*np.pi, 0.01)\n",
    "y = np.sin(x)\n",
    "\n",
    "plot_fn(x, y, title=\"Plot!\")"
   ]
  },
  {
   "cell_type": "code",
   "execution_count": 66,
   "metadata": {
    "collapsed": false,
    "scrolled": false
   },
   "outputs": [
    {
     "name": "stdout",
     "output_type": "stream",
     "text": [
      "Integration result is: -0.000001\n",
      "Integration result is: -0.000012\n",
      "Integration result is: -0.000023\n",
      "Integration result is: -0.000034\n",
      "Integration result is: -0.000044\n",
      "Integration result is: -0.000055\n",
      "Integration result is: -0.000066\n",
      "Integration result is: -0.000077\n",
      "Integration result is: -0.000088\n",
      "Integration result is: -0.000099\n"
     ]
    }
   ],
   "source": [
    "# TODO then integrate y \n",
    "step_size = np.arange(0.001, 0.1, 0.01)\n",
    "for i in step_size: \n",
    "    print(\"Integration result is: %f\" % integrate(y, i))"
   ]
  },
  {
   "cell_type": "code",
   "execution_count": 67,
   "metadata": {
    "collapsed": false
   },
   "outputs": [
    {
     "name": "stdout",
     "output_type": "stream",
     "text": [
      "Integration result with numpy is: 0.000001\n",
      "Integration result with numpy is: 0.000006\n",
      "Integration result with numpy is: 0.000011\n",
      "Integration result with numpy is: 0.000016\n",
      "Integration result with numpy is: 0.000021\n",
      "Integration result with numpy is: 0.000026\n",
      "Integration result with numpy is: 0.000031\n",
      "Integration result with numpy is: 0.000036\n",
      "Integration result with numpy is: 0.000041\n",
      "Integration result with numpy is: 0.000046\n"
     ]
    }
   ],
   "source": [
    "# TODO now use a np function to integrate y and compare\n",
    "# using np.trapz to numerically integrate with a trapezoidal Riemann sum \n",
    "for i in step_size: \n",
    "    print(\"Integration result with numpy is: %f\" % np.trapz(y, dx = i))"
   ]
  },
  {
   "cell_type": "code",
   "execution_count": 68,
   "metadata": {
    "collapsed": false
   },
   "outputs": [
    {
     "name": "stdout",
     "output_type": "stream",
     "text": [
      "[(1.5700000000000001, 0.99999968293183461), (7.8500000000000005, 0.99999207330591877), (14.140000000000001, 0.99999598689147196)]\n",
      "[(4.71, -0.99999714638771797), (11.0, -0.99999020655070348), (17.280000000000001, -0.99999923069749896)]\n"
     ]
    }
   ],
   "source": [
    "# TODO find local maxima and minima of sinx from 0 to 6*pi\n",
    "x_2 = np.arange(0, 6*np.pi, 0.01)\n",
    "y_2 = np.sin(x_2)\n",
    "difference = np.diff(y_2) \n",
    "# want difference[i] = y_2[i] - y_2[i - 1] < 0, difference[i - 1] > 0 for local maxima at y_2[i]  \n",
    "local_maxima = []\n",
    "for i in range(len(difference) - 1):\n",
    "    if difference[i] < 0 and difference[i - 1] > 0: \n",
    "        local_maxima.append((x_2[i], y_2[i]))\n",
    "print(local_maxima)\n",
    "# want difference[i] > 0, difference[i - 1] < 0 for local minima at y_2[i] \n",
    "local_minima = []\n",
    "for j in range(len(difference) - 1):\n",
    "    if difference[j] > 0 and difference[j - 1] < 0: \n",
    "        local_minima.append((x_2[j], y_2[j]))\n",
    "print(local_minima)"
   ]
  },
  {
   "cell_type": "markdown",
   "metadata": {},
   "source": [
    "# Part 2"
   ]
  },
  {
   "cell_type": "code",
   "execution_count": 69,
   "metadata": {
    "collapsed": true
   },
   "outputs": [],
   "source": [
    "def wavepacket(x, k, sigma):\n",
    "    \"\"\"\n",
    "    This function creates a wavepacket on the interval defined by x with\n",
    "    wavevector k and standard deviation sigma.\n",
    "    \"\"\"\n",
    "    return np.sin(k*x) *  np.exp(-(x**2)/(2*sigma**2))"
   ]
  },
  {
   "cell_type": "code",
   "execution_count": 70,
   "metadata": {
    "collapsed": true
   },
   "outputs": [],
   "source": [
    "def noisy_packet(x_values, k, sigma, noise_amplitude):\n",
    "    \"\"\"\n",
    "    This function returns a noisy Gaussian wavepacket with wave\n",
    "    vector k, standard deviation sigma and Gaussian noise of standard\n",
    "    deviation noise_amplitude.\n",
    "    \"\"\"\n",
    "    clean_y = wavepacket(x_values,k,sigma)\n",
    "    noisy_y = clean_y + noise_amplitude*np.random.randn(len(x_values))\n",
    "    return noisy_y"
   ]
  },
  {
   "cell_type": "code",
   "execution_count": 71,
   "metadata": {
    "collapsed": false
   },
   "outputs": [],
   "source": [
    "def clean_data(x_values,y_values):\n",
    "    \"\"\"\n",
    "    This function should take a set of y_values, perform the Fourier\n",
    "    transform on it, filter out the high frequency noise, transform the\n",
    "    signal back into real space, and return it.\n",
    "    \"\"\"\n",
    "\n",
    "    # TODO edit this function\n",
    "    y_fft = np.fft.fft(y_values)\n",
    "    \n",
    "    low_pass_filter = np.ones(y_fft.shape) \n",
    "    num_freq = y_fft.size\n",
    "    low_pass_filter[int(num_freq/25) : num_freq] = 0\n",
    "    \n",
    "    y_clean_values = np.fft.ifft(low_pass_filter)\n",
    "    \n",
    "    return y_clean_values"
   ]
  },
  {
   "cell_type": "code",
   "execution_count": 72,
   "metadata": {
    "collapsed": false
   },
   "outputs": [
    {
     "data": {
      "image/png": "[encoded data removed]",
      "text/plain": [
       "<matplotlib.figure.Figure at 0x10efeead0>"
      ]
     },
     "metadata": {},
     "output_type": "display_data"
    },
    {
     "data": {
      "image/png": "[encoded data removed]",
      "text/plain": [
       "<matplotlib.figure.Figure at 0x112ceec90>"
      ]
     },
     "metadata": {},
     "output_type": "display_data"
    }
   ],
   "source": [
    "# TODO call noisy_packet() to get a Gaussian wave packet, \n",
    "# call clean_data() to apply a low pass filter to the data, and\n",
    "# finally plot the result using plot_fn\n",
    "gaussian = noisy_packet(x_2, 5, 1, 0.2)\n",
    "plot_fn(x_2, gaussian) \n",
    "cleaned = clean_data(x_2, gaussian)\n",
    "#resulting data (after inverse fourier transofrm) is complex--this just plots the real part \n",
    "plot_fn(x_2, cleaned)\n",
    "#looks like this does clear up the noise! "
   ]
  },
  {
   "cell_type": "markdown",
   "metadata": {},
   "source": [
    "# Part 3"
   ]
  },
  {
   "cell_type": "code",
   "execution_count": 73,
   "metadata": {
    "collapsed": true
   },
   "outputs": [],
   "source": [
    "# TODO mask the arrays, then plot"
   ]
  },
  {
   "cell_type": "code",
   "execution_count": 74,
   "metadata": {
    "collapsed": true
   },
   "outputs": [],
   "source": [
    "# TODO try to generate masked noisy data and then clean it"
   ]
  }
 ],
 "metadata": {
  "kernelspec": {
   "display_name": "Python 2",
   "language": "python",
   "name": "python2"
  },
  "language_info": {
   "codemirror_mode": {
    "name": "ipython",
    "version": 2
   },
   "file_extension": ".py",
   "mimetype": "text/x-python",
   "name": "python",
   "nbconvert_exporter": "python",
   "pygments_lexer": "ipython2",
   "version": "2.7.11"
  }
 },
 "nbformat": 4,
 "nbformat_minor": 2
}
